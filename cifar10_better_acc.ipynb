{
  "nbformat": 4,
  "nbformat_minor": 0,
  "metadata": {
    "colab": {
      "name": "cifar10_better_acc.ipynb",
      "provenance": [],
      "collapsed_sections": [],
      "authorship_tag": "ABX9TyMkVG6nD5lbQuAeu0T4m/65",
      "include_colab_link": true
    },
    "kernelspec": {
      "name": "python3",
      "display_name": "Python 3"
    },
    "language_info": {
      "name": "python"
    },
    "accelerator": "GPU"
  },
  "cells": [
    {
      "cell_type": "markdown",
      "metadata": {
        "id": "view-in-github",
        "colab_type": "text"
      },
      "source": [
        "<a href=\"https://colab.research.google.com/github/Mani0322/Deep-learning/blob/main/cifar10_better_acc.ipynb\" target=\"_parent\"><img src=\"https://colab.research.google.com/assets/colab-badge.svg\" alt=\"Open In Colab\"/></a>"
      ]
    },
    {
      "cell_type": "code",
      "execution_count": 1,
      "metadata": {
        "id": "OA-LuEePY9sP"
      },
      "outputs": [],
      "source": [
        "import numpy as np\n",
        "import matplotlib.pyplot as plt\n",
        "import tensorflow as tf\n",
        "from tensorflow import keras"
      ]
    },
    {
      "cell_type": "code",
      "source": [
        "cifar = keras.datasets.cifar10\n",
        "(X_train,y_train),(X_test,y_test)=cifar.load_data()"
      ],
      "metadata": {
        "colab": {
          "base_uri": "https://localhost:8080/"
        },
        "id": "xPw4ZYGhZr_L",
        "outputId": "ddbcfff3-03d2-4b50-f0ea-e818159a73d5"
      },
      "execution_count": 2,
      "outputs": [
        {
          "output_type": "stream",
          "name": "stdout",
          "text": [
            "Downloading data from https://www.cs.toronto.edu/~kriz/cifar-10-python.tar.gz\n",
            "170500096/170498071 [==============================] - 4s 0us/step\n",
            "170508288/170498071 [==============================] - 4s 0us/step\n"
          ]
        }
      ]
    },
    {
      "cell_type": "code",
      "source": [
        "X_train.shape"
      ],
      "metadata": {
        "colab": {
          "base_uri": "https://localhost:8080/"
        },
        "id": "w-gs5gg3aMhY",
        "outputId": "2ee2e8a7-d09d-4059-f1f1-c5f3eb8232cf"
      },
      "execution_count": 3,
      "outputs": [
        {
          "output_type": "execute_result",
          "data": {
            "text/plain": [
              "(50000, 32, 32, 3)"
            ]
          },
          "metadata": {},
          "execution_count": 3
        }
      ]
    },
    {
      "cell_type": "code",
      "source": [
        "plt.figure()\n",
        "plt.imshow(X_train[45])\n",
        "plt.show()"
      ],
      "metadata": {
        "colab": {
          "base_uri": "https://localhost:8080/",
          "height": 266
        },
        "id": "YHogy55naP-G",
        "outputId": "7774f7c0-9257-46e2-d3d6-0a8e83222e2c"
      },
      "execution_count": 4,
      "outputs": [
        {
          "output_type": "display_data",
          "data": {
            "image/png": "[encoded data removed]",
            "text/plain": [
              "<Figure size 432x288 with 1 Axes>"
            ]
          },
          "metadata": {
            "needs_background": "light"
          }
        }
      ]
    },
    {
      "cell_type": "code",
      "source": [
        "X_train = X_train.reshape((50000,32,32,3))\n",
        "X_test = X_test.reshape((10000,32,32,3))"
      ],
      "metadata": {
        "id": "4xbwFI63akB_"
      },
      "execution_count": 5,
      "outputs": []
    },
    {
      "cell_type": "code",
      "source": [
        "y_train = keras.utils.to_categorical(y_train,10)\n",
        "y_test = keras.utils.to_categorical(y_test,10)"
      ],
      "metadata": {
        "id": "Oa8PNDssa9Ao"
      },
      "execution_count": 6,
      "outputs": []
    },
    {
      "cell_type": "code",
      "source": [
        "mean = np.mean(X_train,axis=(0,1,2,3))\n",
        "std = np.std(X_train,axis=(0,1,2,3))\n",
        "X_train = (X_train-mean)/(std+1e-7)\n",
        "X_test = (X_test-mean)/(std+1e-7)"
      ],
      "metadata": {
        "id": "XvNnXb1prlHu"
      },
      "execution_count": 18,
      "outputs": []
    },
    {
      "cell_type": "code",
      "source": [
        "def build_model():\n",
        "  #1\n",
        "  model = keras.models.Sequential()\n",
        "  model.add(keras.layers.Conv2D(32,(3,3),activation=\"relu\",padding=\"same\",input_shape=(32,32,3)))\n",
        "  model.add(keras.layers.BatchNormalization())\n",
        "  model.add(keras.layers.Conv2D(32,(3,3),activation=\"relu\"))\n",
        "  model.add(keras.layers.MaxPooling2D((2,2)))\n",
        "  model.add(keras.layers.Dropout(0.2))\n",
        "  #2\n",
        "  model.add(keras.layers.Conv2D(64,(3,3),activation=\"relu\",padding=\"same\"))\n",
        "  model.add(keras.layers.BatchNormalization())\n",
        "  model.add(keras.layers.Conv2D(64,(3,3),activation=\"relu\"))\n",
        "  model.add(keras.layers.MaxPooling2D((2,2)))\n",
        "  model.add(keras.layers.Dropout(0.3))\n",
        "  #3\n",
        "  model.add(keras.layers.Conv2D(128,(3,3),activation=\"relu\",padding=\"same\"))\n",
        "  model.add(keras.layers.BatchNormalization())\n",
        "  model.add(keras.layers.Conv2D(128,(3,3),activation=\"relu\"))\n",
        "  model.add(keras.layers.MaxPooling2D((2,2)))\n",
        "  model.add(keras.layers.Dropout(0.4))\n",
        "\n",
        "  model.add(keras.layers.Flatten())\n",
        "  model.add(keras.layers.Dense(10,activation=\"softmax\"))\n",
        "  return model\n",
        "  \n",
        "\n"
      ],
      "metadata": {
        "id": "Y93Pv16ZbOdY"
      },
      "execution_count": 19,
      "outputs": []
    },
    {
      "cell_type": "code",
      "source": [
        "model = build_model()"
      ],
      "metadata": {
        "id": "D8Rs1imxeDJe"
      },
      "execution_count": 20,
      "outputs": []
    },
    {
      "cell_type": "code",
      "source": [
        "model.summary()"
      ],
      "metadata": {
        "colab": {
          "base_uri": "https://localhost:8080/"
        },
        "id": "tOBuIoLQeRwA",
        "outputId": "14da1bf6-9458-4ace-ee81-3a37c3ee47e0"
      },
      "execution_count": 21,
      "outputs": [
        {
          "output_type": "stream",
          "name": "stdout",
          "text": [
            "Model: \"sequential_1\"\n",
            "_________________________________________________________________\n",
            " Layer (type)                Output Shape              Param #   \n",
            "=================================================================\n",
            " conv2d_6 (Conv2D)           (None, 32, 32, 32)        896       \n",
            "                                                                 \n",
            " batch_normalization_3 (Batc  (None, 32, 32, 32)       128       \n",
            " hNormalization)                                                 \n",
            "                                                                 \n",
            " conv2d_7 (Conv2D)           (None, 30, 30, 32)        9248      \n",
            "                                                                 \n",
            " max_pooling2d_3 (MaxPooling  (None, 15, 15, 32)       0         \n",
            " 2D)                                                             \n",
            "                                                                 \n",
            " dropout_3 (Dropout)         (None, 15, 15, 32)        0         \n",
            "                                                                 \n",
            " conv2d_8 (Conv2D)           (None, 15, 15, 64)        18496     \n",
            "                                                                 \n",
            " batch_normalization_4 (Batc  (None, 15, 15, 64)       256       \n",
            " hNormalization)                                                 \n",
            "                                                                 \n",
            " conv2d_9 (Conv2D)           (None, 13, 13, 64)        36928     \n",
            "                                                                 \n",
            " max_pooling2d_4 (MaxPooling  (None, 6, 6, 64)         0         \n",
            " 2D)                                                             \n",
            "                                                                 \n",
            " dropout_4 (Dropout)         (None, 6, 6, 64)          0         \n",
            "                                                                 \n",
            " conv2d_10 (Conv2D)          (None, 6, 6, 128)         73856     \n",
            "                                                                 \n",
            " batch_normalization_5 (Batc  (None, 6, 6, 128)        512       \n",
            " hNormalization)                                                 \n",
            "                                                                 \n",
            " conv2d_11 (Conv2D)          (None, 4, 4, 128)         147584    \n",
            "                                                                 \n",
            " max_pooling2d_5 (MaxPooling  (None, 2, 2, 128)        0         \n",
            " 2D)                                                             \n",
            "                                                                 \n",
            " dropout_5 (Dropout)         (None, 2, 2, 128)         0         \n",
            "                                                                 \n",
            " flatten_1 (Flatten)         (None, 512)               0         \n",
            "                                                                 \n",
            " dense_1 (Dense)             (None, 10)                5130      \n",
            "                                                                 \n",
            "=================================================================\n",
            "Total params: 293,034\n",
            "Trainable params: 292,586\n",
            "Non-trainable params: 448\n",
            "_________________________________________________________________\n"
          ]
        }
      ]
    },
    {
      "cell_type": "code",
      "source": [
        "model.compile(loss=\"categorical_crossentropy\",optimizer=\"rmsprop\",metrics=[\"accuracy\"])"
      ],
      "metadata": {
        "id": "msKJhZXneUfg"
      },
      "execution_count": 22,
      "outputs": []
    },
    {
      "cell_type": "code",
      "source": [
        "from tensorflow.keras.preprocessing.image import ImageDataGenerator\n",
        "datagen = ImageDataGenerator(rotation_range=30,width_shift_range=0.2,height_shift_range=0.2,horizontal_flip=True)\n",
        "datagen.fit(X_train)"
      ],
      "metadata": {
        "id": "FrVJs7kFj1sm"
      },
      "execution_count": 23,
      "outputs": []
    },
    {
      "cell_type": "code",
      "source": [
        "model.fit_generator(datagen.flow(X_train,y_train,64),epochs=50,validation_data=(X_test,y_test),verbose=1)"
      ],
      "metadata": {
        "colab": {
          "base_uri": "https://localhost:8080/"
        },
        "id": "SGhRPMg2k1PP",
        "outputId": "5a846520-0192-4e37-9458-57579506d286"
      },
      "execution_count": 24,
      "outputs": [
        {
          "output_type": "stream",
          "name": "stderr",
          "text": [
            "/usr/local/lib/python3.7/dist-packages/ipykernel_launcher.py:1: UserWarning: `Model.fit_generator` is deprecated and will be removed in a future version. Please use `Model.fit`, which supports generators.\n",
            "  \"\"\"Entry point for launching an IPython kernel.\n"
          ]
        },
        {
          "output_type": "stream",
          "name": "stdout",
          "text": [
            "Epoch 1/50\n",
            "782/782 [==============================] - 29s 35ms/step - loss: 1.8156 - accuracy: 0.3493 - val_loss: 1.7613 - val_accuracy: 0.4244\n",
            "Epoch 2/50\n",
            "782/782 [==============================] - 27s 34ms/step - loss: 1.4980 - accuracy: 0.4622 - val_loss: 1.3438 - val_accuracy: 0.5462\n",
            "Epoch 3/50\n",
            "782/782 [==============================] - 27s 35ms/step - loss: 1.3861 - accuracy: 0.5110 - val_loss: 1.2193 - val_accuracy: 0.5783\n",
            "Epoch 4/50\n",
            "782/782 [==============================] - 27s 34ms/step - loss: 1.3103 - accuracy: 0.5381 - val_loss: 1.1973 - val_accuracy: 0.5692\n",
            "Epoch 5/50\n",
            "782/782 [==============================] - 27s 34ms/step - loss: 1.2780 - accuracy: 0.5540 - val_loss: 1.3340 - val_accuracy: 0.5713\n",
            "Epoch 6/50\n",
            "782/782 [==============================] - 27s 34ms/step - loss: 1.2506 - accuracy: 0.5676 - val_loss: 1.1807 - val_accuracy: 0.6073\n",
            "Epoch 7/50\n",
            "782/782 [==============================] - 27s 34ms/step - loss: 1.2181 - accuracy: 0.5809 - val_loss: 1.1981 - val_accuracy: 0.6199\n",
            "Epoch 8/50\n",
            "782/782 [==============================] - 27s 34ms/step - loss: 1.1941 - accuracy: 0.5896 - val_loss: 0.9592 - val_accuracy: 0.6653\n",
            "Epoch 9/50\n",
            "782/782 [==============================] - 27s 34ms/step - loss: 1.1709 - accuracy: 0.5978 - val_loss: 0.9878 - val_accuracy: 0.6592\n",
            "Epoch 10/50\n",
            "782/782 [==============================] - 27s 34ms/step - loss: 1.1540 - accuracy: 0.6034 - val_loss: 1.2490 - val_accuracy: 0.6108\n",
            "Epoch 11/50\n",
            "782/782 [==============================] - 27s 34ms/step - loss: 1.1315 - accuracy: 0.6137 - val_loss: 1.2390 - val_accuracy: 0.6175\n",
            "Epoch 12/50\n",
            "782/782 [==============================] - 27s 34ms/step - loss: 1.1108 - accuracy: 0.6223 - val_loss: 1.0904 - val_accuracy: 0.6473\n",
            "Epoch 13/50\n",
            "782/782 [==============================] - 27s 35ms/step - loss: 1.0937 - accuracy: 0.6286 - val_loss: 0.9679 - val_accuracy: 0.6864\n",
            "Epoch 14/50\n",
            "782/782 [==============================] - 27s 34ms/step - loss: 1.0770 - accuracy: 0.6348 - val_loss: 1.1161 - val_accuracy: 0.6445\n",
            "Epoch 15/50\n",
            "782/782 [==============================] - 27s 35ms/step - loss: 1.0563 - accuracy: 0.6419 - val_loss: 0.8954 - val_accuracy: 0.7104\n",
            "Epoch 16/50\n",
            "782/782 [==============================] - 27s 34ms/step - loss: 1.0411 - accuracy: 0.6480 - val_loss: 0.9425 - val_accuracy: 0.6929\n",
            "Epoch 17/50\n",
            "782/782 [==============================] - 27s 34ms/step - loss: 1.0335 - accuracy: 0.6503 - val_loss: 1.0019 - val_accuracy: 0.6960\n",
            "Epoch 18/50\n",
            "782/782 [==============================] - 27s 34ms/step - loss: 1.0174 - accuracy: 0.6540 - val_loss: 1.1286 - val_accuracy: 0.6815\n",
            "Epoch 19/50\n",
            "782/782 [==============================] - 27s 34ms/step - loss: 1.0006 - accuracy: 0.6607 - val_loss: 0.8116 - val_accuracy: 0.7281\n",
            "Epoch 20/50\n",
            "782/782 [==============================] - 27s 35ms/step - loss: 0.9868 - accuracy: 0.6647 - val_loss: 0.9309 - val_accuracy: 0.7025\n",
            "Epoch 21/50\n",
            "782/782 [==============================] - 27s 34ms/step - loss: 0.9832 - accuracy: 0.6666 - val_loss: 0.9280 - val_accuracy: 0.7124\n",
            "Epoch 22/50\n",
            "782/782 [==============================] - 27s 34ms/step - loss: 0.9693 - accuracy: 0.6734 - val_loss: 1.0490 - val_accuracy: 0.6802\n",
            "Epoch 23/50\n",
            "782/782 [==============================] - 27s 34ms/step - loss: 0.9656 - accuracy: 0.6746 - val_loss: 0.9122 - val_accuracy: 0.7076\n",
            "Epoch 24/50\n",
            "782/782 [==============================] - 27s 35ms/step - loss: 0.9610 - accuracy: 0.6765 - val_loss: 0.8583 - val_accuracy: 0.7270\n",
            "Epoch 25/50\n",
            "782/782 [==============================] - 27s 35ms/step - loss: 0.9525 - accuracy: 0.6786 - val_loss: 0.8726 - val_accuracy: 0.7333\n",
            "Epoch 26/50\n",
            "782/782 [==============================] - 27s 35ms/step - loss: 0.9459 - accuracy: 0.6814 - val_loss: 0.8788 - val_accuracy: 0.7208\n",
            "Epoch 27/50\n",
            "782/782 [==============================] - 27s 35ms/step - loss: 0.9447 - accuracy: 0.6830 - val_loss: 0.8478 - val_accuracy: 0.7264\n",
            "Epoch 28/50\n",
            "782/782 [==============================] - 27s 34ms/step - loss: 0.9289 - accuracy: 0.6845 - val_loss: 0.9276 - val_accuracy: 0.7180\n",
            "Epoch 29/50\n",
            "782/782 [==============================] - 27s 34ms/step - loss: 0.9249 - accuracy: 0.6897 - val_loss: 0.8700 - val_accuracy: 0.7208\n",
            "Epoch 30/50\n",
            "782/782 [==============================] - 27s 34ms/step - loss: 0.9202 - accuracy: 0.6906 - val_loss: 0.8135 - val_accuracy: 0.7414\n",
            "Epoch 31/50\n",
            "782/782 [==============================] - 27s 34ms/step - loss: 0.9295 - accuracy: 0.6896 - val_loss: 0.8239 - val_accuracy: 0.7376\n",
            "Epoch 32/50\n",
            "782/782 [==============================] - 27s 34ms/step - loss: 0.9158 - accuracy: 0.6928 - val_loss: 0.9920 - val_accuracy: 0.7021\n",
            "Epoch 33/50\n",
            "782/782 [==============================] - 27s 34ms/step - loss: 0.9181 - accuracy: 0.6926 - val_loss: 0.7821 - val_accuracy: 0.7449\n",
            "Epoch 34/50\n",
            "782/782 [==============================] - 27s 34ms/step - loss: 0.9106 - accuracy: 0.6948 - val_loss: 0.7434 - val_accuracy: 0.7469\n",
            "Epoch 35/50\n",
            "782/782 [==============================] - 27s 35ms/step - loss: 0.9183 - accuracy: 0.6952 - val_loss: 0.7232 - val_accuracy: 0.7646\n",
            "Epoch 36/50\n",
            "782/782 [==============================] - 27s 34ms/step - loss: 0.9170 - accuracy: 0.6946 - val_loss: 0.9036 - val_accuracy: 0.7257\n",
            "Epoch 37/50\n",
            "782/782 [==============================] - 27s 34ms/step - loss: 0.9144 - accuracy: 0.6961 - val_loss: 0.8313 - val_accuracy: 0.7344\n",
            "Epoch 38/50\n",
            "782/782 [==============================] - 27s 34ms/step - loss: 0.9136 - accuracy: 0.6978 - val_loss: 0.7158 - val_accuracy: 0.7725\n",
            "Epoch 39/50\n",
            "782/782 [==============================] - 26s 34ms/step - loss: 0.9145 - accuracy: 0.6963 - val_loss: 0.9408 - val_accuracy: 0.7267\n",
            "Epoch 40/50\n",
            "782/782 [==============================] - 27s 34ms/step - loss: 0.9030 - accuracy: 0.7000 - val_loss: 0.9545 - val_accuracy: 0.7242\n",
            "Epoch 41/50\n",
            "782/782 [==============================] - 27s 34ms/step - loss: 0.9066 - accuracy: 0.7009 - val_loss: 0.7286 - val_accuracy: 0.7639\n",
            "Epoch 42/50\n",
            "782/782 [==============================] - 27s 34ms/step - loss: 0.9059 - accuracy: 0.7008 - val_loss: 0.9966 - val_accuracy: 0.7126\n",
            "Epoch 43/50\n",
            "782/782 [==============================] - 27s 34ms/step - loss: 0.8985 - accuracy: 0.7019 - val_loss: 0.8190 - val_accuracy: 0.7470\n",
            "Epoch 44/50\n",
            "782/782 [==============================] - 27s 34ms/step - loss: 0.9013 - accuracy: 0.7017 - val_loss: 0.8490 - val_accuracy: 0.7418\n",
            "Epoch 45/50\n",
            "782/782 [==============================] - 27s 34ms/step - loss: 0.9004 - accuracy: 0.7044 - val_loss: 0.7720 - val_accuracy: 0.7656\n",
            "Epoch 46/50\n",
            "782/782 [==============================] - 27s 35ms/step - loss: 0.9099 - accuracy: 0.7019 - val_loss: 0.8001 - val_accuracy: 0.7485\n",
            "Epoch 47/50\n",
            "782/782 [==============================] - 27s 35ms/step - loss: 0.9024 - accuracy: 0.7037 - val_loss: 0.7643 - val_accuracy: 0.7589\n",
            "Epoch 48/50\n",
            "782/782 [==============================] - 27s 34ms/step - loss: 0.9104 - accuracy: 0.7009 - val_loss: 0.6859 - val_accuracy: 0.7810\n",
            "Epoch 49/50\n",
            "782/782 [==============================] - 27s 34ms/step - loss: 0.9008 - accuracy: 0.7012 - val_loss: 0.9207 - val_accuracy: 0.7271\n",
            "Epoch 50/50\n",
            "782/782 [==============================] - 27s 34ms/step - loss: 0.9119 - accuracy: 0.6998 - val_loss: 0.8992 - val_accuracy: 0.7293\n"
          ]
        },
        {
          "output_type": "execute_result",
          "data": {
            "text/plain": [
              "<keras.callbacks.History at 0x7fe4a969c150>"
            ]
          },
          "metadata": {},
          "execution_count": 24
        }
      ]
    },
    {
      "cell_type": "code",
      "source": [
        "test_loss,test_acc = model.evaluate(X_test,y_test)"
      ],
      "metadata": {
        "colab": {
          "base_uri": "https://localhost:8080/"
        },
        "id": "pfzVPBddll_W",
        "outputId": "2e88459c-981d-4c2c-b153-48c93dc3908e"
      },
      "execution_count": 25,
      "outputs": [
        {
          "output_type": "stream",
          "name": "stdout",
          "text": [
            "313/313 [==============================] - 1s 4ms/step - loss: 0.8992 - accuracy: 0.7293\n"
          ]
        }
      ]
    },
    {
      "cell_type": "code",
      "source": [
        "new_images = X_train[:3]\n",
        "prob = model.predict(new_images)\n",
        "prob.round(2)"
      ],
      "metadata": {
        "colab": {
          "base_uri": "https://localhost:8080/"
        },
        "id": "3inB_st2reMo",
        "outputId": "0c436712-d177-4625-d7e2-167e94fb0c70"
      },
      "execution_count": 40,
      "outputs": [
        {
          "output_type": "execute_result",
          "data": {
            "text/plain": [
              "array([[0.  , 0.  , 0.02, 0.04, 0.01, 0.  , 0.93, 0.  , 0.  , 0.  ],\n",
              "       [0.  , 0.  , 0.  , 0.  , 0.  , 0.  , 0.  , 0.  , 0.  , 1.  ],\n",
              "       [0.68, 0.02, 0.01, 0.  , 0.  , 0.  , 0.  , 0.01, 0.1 , 0.18]],\n",
              "      dtype=float32)"
            ]
          },
          "metadata": {},
          "execution_count": 40
        }
      ]
    },
    {
      "cell_type": "code",
      "source": [
        "classes = [\"airplane\",\"automobile\",\"bird\",\"cat\",\"deer\",\"dog\",\"frog\",\"horse\",\"ship\",\"truck\"]"
      ],
      "metadata": {
        "id": "6sbya81ayRH7"
      },
      "execution_count": 37,
      "outputs": []
    },
    {
      "cell_type": "code",
      "source": [
        ""
      ],
      "metadata": {
        "id": "0k4mBFLI0TE2"
      },
      "execution_count": null,
      "outputs": []
    }
  ]
}